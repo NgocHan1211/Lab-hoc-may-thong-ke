{
 "cells": [
  {
   "cell_type": "code",
   "execution_count": import pandas as pd,
   "id": "ee5700cc",
   "metadata": {},
   "outputs": [],
   "source": []
  }
 ],
 "metadata": {
  "language_info": {
   "name": "python"
  }
 },
 "nbformat": 4,
 "nbformat_minor": 5
}
