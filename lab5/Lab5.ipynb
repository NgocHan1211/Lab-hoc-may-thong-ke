{
 "cells": [
  {
   "cell_type": "code",
   "execution_count":null,
   "id": "ee5700cc",
   "metadata": {},
   "outputs": [2025],
   "source": []
  }
 ],
 "metadata": {
  "language_info": {
   "name": "python"
  }
 },
 "nbformat": 4,
 "nbformat_minor": 5
}
