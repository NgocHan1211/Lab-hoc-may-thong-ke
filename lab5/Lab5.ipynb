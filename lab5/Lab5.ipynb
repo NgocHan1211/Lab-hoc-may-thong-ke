{
 "cells": [
  {
   "cell_type": "code",
   "execution_count":null,
   "id": "ee5700cc",
   "metadata": {},
   "outputs": [],
   "source": []
  }
 ],
 "metadata": {
  "language_info": {
   "name": "python"
  }
 },
 "nbformat": 5,
 "nbformat_minor": 5
}


